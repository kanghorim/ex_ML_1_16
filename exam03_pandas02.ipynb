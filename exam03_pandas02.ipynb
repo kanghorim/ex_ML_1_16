{
  "nbformat": 4,
  "nbformat_minor": 0,
  "metadata": {
    "colab": {
      "name": "exam03_pandas02.ipynb",
      "provenance": []
    },
    "kernelspec": {
      "name": "python3",
      "display_name": "Python 3"
    },
    "language_info": {
      "name": "python"
    }
  },
  "cells": [
    {
      "cell_type": "code",
      "execution_count": 6,
      "metadata": {
        "id": "8mfwBfILQOGg"
      },
      "outputs": [],
      "source": [
        "import pandas as pd\n",
        "import numpy as np\n",
        "import seaborn as sns\n",
        "from sklearn import preprocessing"
      ]
    },
    {
      "cell_type": "code",
      "source": [
        "pd.set_option('display.max_columns', 8)\n",
        "pd.set_option('display.unicode.east_asian', True)"
      ],
      "metadata": {
        "id": "2sodNQDFxK7W"
      },
      "execution_count": 7,
      "outputs": []
    },
    {
      "cell_type": "code",
      "source": [
        "df = sns.load_dataset('titanic')\n",
        "print(df.head(20))"
      ],
      "metadata": {
        "colab": {
          "base_uri": "https://localhost:8080/"
        },
        "id": "Ioj78j4jbHRJ",
        "outputId": "e8dfe3d0-6dcf-44bf-c4bf-0f11f83f8f2b"
      },
      "execution_count": 8,
      "outputs": [
        {
          "output_type": "stream",
          "name": "stdout",
          "text": [
            "    survived  pclass     sex   age  ...  deck  embark_town  alive  alone\n",
            "0          0       3    male  22.0  ...   NaN  Southampton     no  False\n",
            "1          1       1  female  38.0  ...     C    Cherbourg    yes  False\n",
            "2          1       3  female  26.0  ...   NaN  Southampton    yes   True\n",
            "3          1       1  female  35.0  ...     C  Southampton    yes  False\n",
            "4          0       3    male  35.0  ...   NaN  Southampton     no   True\n",
            "5          0       3    male   NaN  ...   NaN   Queenstown     no   True\n",
            "6          0       1    male  54.0  ...     E  Southampton     no   True\n",
            "7          0       3    male   2.0  ...   NaN  Southampton     no  False\n",
            "8          1       3  female  27.0  ...   NaN  Southampton    yes  False\n",
            "9          1       2  female  14.0  ...   NaN    Cherbourg    yes  False\n",
            "10         1       3  female   4.0  ...     G  Southampton    yes  False\n",
            "11         1       1  female  58.0  ...     C  Southampton    yes   True\n",
            "12         0       3    male  20.0  ...   NaN  Southampton     no   True\n",
            "13         0       3    male  39.0  ...   NaN  Southampton     no  False\n",
            "14         0       3  female  14.0  ...   NaN  Southampton     no   True\n",
            "15         1       2  female  55.0  ...   NaN  Southampton    yes   True\n",
            "16         0       3    male   2.0  ...   NaN   Queenstown     no  False\n",
            "17         1       2    male   NaN  ...   NaN  Southampton    yes   True\n",
            "18         0       3  female  31.0  ...   NaN  Southampton     no  False\n",
            "19         1       3  female   NaN  ...   NaN    Cherbourg    yes   True\n",
            "\n",
            "[20 rows x 15 columns]\n"
          ]
        }
      ]
    },
    {
      "cell_type": "code",
      "source": [
        "nan_deck = df['deck'].value_counts(dropna=False)\n",
        "print(nan_deck)\n",
        "print(type(nan_deck))"
      ],
      "metadata": {
        "colab": {
          "base_uri": "https://localhost:8080/"
        },
        "id": "cIYF-0kGbcOI",
        "outputId": "c4b7d55c-e3ba-453c-922b-4e161de88362"
      },
      "execution_count": 9,
      "outputs": [
        {
          "output_type": "stream",
          "name": "stdout",
          "text": [
            "NaN    688\n",
            "C       59\n",
            "B       47\n",
            "D       33\n",
            "E       32\n",
            "A       15\n",
            "F       13\n",
            "G        4\n",
            "Name: deck, dtype: int64\n",
            "<class 'pandas.core.series.Series'>\n"
          ]
        }
      ]
    },
    {
      "cell_type": "code",
      "source": [
        "print(df.head().isnull())"
      ],
      "metadata": {
        "colab": {
          "base_uri": "https://localhost:8080/"
        },
        "id": "yFhSLXW_cS8v",
        "outputId": "28e7a9c8-34b1-4b15-b303-bac08299cf91"
      },
      "execution_count": 10,
      "outputs": [
        {
          "output_type": "stream",
          "name": "stdout",
          "text": [
            "   survived  pclass    sex    age  ...   deck  embark_town  alive  alone\n",
            "0     False   False  False  False  ...   True        False  False  False\n",
            "1     False   False  False  False  ...  False        False  False  False\n",
            "2     False   False  False  False  ...   True        False  False  False\n",
            "3     False   False  False  False  ...  False        False  False  False\n",
            "4     False   False  False  False  ...   True        False  False  False\n",
            "\n",
            "[5 rows x 15 columns]\n"
          ]
        }
      ]
    },
    {
      "cell_type": "code",
      "source": [
        "print(df.head().notnull())"
      ],
      "metadata": {
        "colab": {
          "base_uri": "https://localhost:8080/"
        },
        "id": "VrlfHle3cjwx",
        "outputId": "145975e1-be5e-4ccc-fa42-ab629545ff99"
      },
      "execution_count": 11,
      "outputs": [
        {
          "output_type": "stream",
          "name": "stdout",
          "text": [
            "   survived  pclass   sex   age  ...   deck  embark_town  alive  alone\n",
            "0      True    True  True  True  ...  False         True   True   True\n",
            "1      True    True  True  True  ...   True         True   True   True\n",
            "2      True    True  True  True  ...  False         True   True   True\n",
            "3      True    True  True  True  ...   True         True   True   True\n",
            "4      True    True  True  True  ...  False         True   True   True\n",
            "\n",
            "[5 rows x 15 columns]\n"
          ]
        }
      ]
    },
    {
      "cell_type": "code",
      "source": [
        "print(df.isnull().sum(axis=0))"
      ],
      "metadata": {
        "colab": {
          "base_uri": "https://localhost:8080/"
        },
        "id": "CFX-7aNKc1Gn",
        "outputId": "e6e9e6b4-0e45-4c7e-e5aa-e5f772ed8bc2"
      },
      "execution_count": 12,
      "outputs": [
        {
          "output_type": "stream",
          "name": "stdout",
          "text": [
            "survived         0\n",
            "pclass           0\n",
            "sex              0\n",
            "age            177\n",
            "sibsp            0\n",
            "parch            0\n",
            "fare             0\n",
            "embarked         2\n",
            "class            0\n",
            "who              0\n",
            "adult_male       0\n",
            "deck           688\n",
            "embark_town      2\n",
            "alive            0\n",
            "alone            0\n",
            "dtype: int64\n"
          ]
        }
      ]
    },
    {
      "cell_type": "code",
      "source": [
        "df.info()"
      ],
      "metadata": {
        "colab": {
          "base_uri": "https://localhost:8080/"
        },
        "id": "sr7oFyR0dCnJ",
        "outputId": "9777a166-33a2-4f09-cb45-e9a62d544de3"
      },
      "execution_count": 13,
      "outputs": [
        {
          "output_type": "stream",
          "name": "stdout",
          "text": [
            "<class 'pandas.core.frame.DataFrame'>\n",
            "RangeIndex: 891 entries, 0 to 890\n",
            "Data columns (total 15 columns):\n",
            " #   Column       Non-Null Count  Dtype   \n",
            "---  ------       --------------  -----   \n",
            " 0   survived     891 non-null    int64   \n",
            " 1   pclass       891 non-null    int64   \n",
            " 2   sex          891 non-null    object  \n",
            " 3   age          714 non-null    float64 \n",
            " 4   sibsp        891 non-null    int64   \n",
            " 5   parch        891 non-null    int64   \n",
            " 6   fare         891 non-null    float64 \n",
            " 7   embarked     889 non-null    object  \n",
            " 8   class        891 non-null    category\n",
            " 9   who          891 non-null    object  \n",
            " 10  adult_male   891 non-null    bool    \n",
            " 11  deck         203 non-null    category\n",
            " 12  embark_town  889 non-null    object  \n",
            " 13  alive        891 non-null    object  \n",
            " 14  alone        891 non-null    bool    \n",
            "dtypes: bool(2), category(2), float64(2), int64(4), object(5)\n",
            "memory usage: 80.7+ KB\n"
          ]
        }
      ]
    },
    {
      "cell_type": "code",
      "source": [
        "df.dropna(axis=1, thresh=500, inplace=True)\n",
        "print(df.columns)"
      ],
      "metadata": {
        "colab": {
          "base_uri": "https://localhost:8080/"
        },
        "id": "CYi1GRHGdRRp",
        "outputId": "0a27fb71-de05-4a20-e731-1ab8fcb873dc"
      },
      "execution_count": 14,
      "outputs": [
        {
          "output_type": "stream",
          "name": "stdout",
          "text": [
            "Index(['survived', 'pclass', 'sex', 'age', 'sibsp', 'parch', 'fare',\n",
            "       'embarked', 'class', 'who', 'adult_male', 'embark_town', 'alive',\n",
            "       'alone'],\n",
            "      dtype='object')\n"
          ]
        }
      ]
    },
    {
      "cell_type": "code",
      "source": [
        "df_age = df.dropna(subset=['age'], how='any', axis=0)\n",
        "df_age.info()"
      ],
      "metadata": {
        "colab": {
          "base_uri": "https://localhost:8080/"
        },
        "id": "HBGWNWK2eIYl",
        "outputId": "8c47aa87-fb90-4d2f-cb10-f51400fa78eb"
      },
      "execution_count": 15,
      "outputs": [
        {
          "output_type": "stream",
          "name": "stdout",
          "text": [
            "<class 'pandas.core.frame.DataFrame'>\n",
            "Int64Index: 714 entries, 0 to 890\n",
            "Data columns (total 14 columns):\n",
            " #   Column       Non-Null Count  Dtype   \n",
            "---  ------       --------------  -----   \n",
            " 0   survived     714 non-null    int64   \n",
            " 1   pclass       714 non-null    int64   \n",
            " 2   sex          714 non-null    object  \n",
            " 3   age          714 non-null    float64 \n",
            " 4   sibsp        714 non-null    int64   \n",
            " 5   parch        714 non-null    int64   \n",
            " 6   fare         714 non-null    float64 \n",
            " 7   embarked     712 non-null    object  \n",
            " 8   class        714 non-null    category\n",
            " 9   who          714 non-null    object  \n",
            " 10  adult_male   714 non-null    bool    \n",
            " 11  embark_town  712 non-null    object  \n",
            " 12  alive        714 non-null    object  \n",
            " 13  alone        714 non-null    bool    \n",
            "dtypes: bool(2), category(1), float64(2), int64(4), object(5)\n",
            "memory usage: 69.2+ KB\n"
          ]
        }
      ]
    },
    {
      "cell_type": "code",
      "source": [
        "mean_age = df['age'].mean()\n",
        "df['age'].fillna(mean_age, inplace=True)\n",
        "print(df.head(10))"
      ],
      "metadata": {
        "colab": {
          "base_uri": "https://localhost:8080/"
        },
        "id": "eMnEQT0cec34",
        "outputId": "1ea76e88-92c3-4d64-f1bb-de11dd8164bc"
      },
      "execution_count": 16,
      "outputs": [
        {
          "output_type": "stream",
          "name": "stdout",
          "text": [
            "   survived  pclass     sex        age  ...  adult_male  embark_town  alive  \\\n",
            "0         0       3    male  22.000000  ...        True  Southampton     no   \n",
            "1         1       1  female  38.000000  ...       False    Cherbourg    yes   \n",
            "2         1       3  female  26.000000  ...       False  Southampton    yes   \n",
            "3         1       1  female  35.000000  ...       False  Southampton    yes   \n",
            "4         0       3    male  35.000000  ...        True  Southampton     no   \n",
            "5         0       3    male  29.699118  ...        True   Queenstown     no   \n",
            "6         0       1    male  54.000000  ...        True  Southampton     no   \n",
            "7         0       3    male   2.000000  ...       False  Southampton     no   \n",
            "8         1       3  female  27.000000  ...       False  Southampton    yes   \n",
            "9         1       2  female  14.000000  ...       False    Cherbourg    yes   \n",
            "\n",
            "   alone  \n",
            "0  False  \n",
            "1  False  \n",
            "2   True  \n",
            "3  False  \n",
            "4   True  \n",
            "5   True  \n",
            "6   True  \n",
            "7  False  \n",
            "8  False  \n",
            "9  False  \n",
            "\n",
            "[10 rows x 14 columns]\n"
          ]
        }
      ]
    },
    {
      "cell_type": "code",
      "source": [
        "most_freq = df['embark_town'].value_counts(dropna=True).idxmax()\n",
        "print(most_freq)"
      ],
      "metadata": {
        "colab": {
          "base_uri": "https://localhost:8080/"
        },
        "id": "JhyVPvJjfgGh",
        "outputId": "3d48dd6f-81f0-4502-e795-410ec3a3c243"
      },
      "execution_count": 17,
      "outputs": [
        {
          "output_type": "stream",
          "name": "stdout",
          "text": [
            "Southampton\n"
          ]
        }
      ]
    },
    {
      "cell_type": "code",
      "source": [
        "df_most_freq = df['embark_town'].fillna(most_freq, inplace=False)\n",
        "print(df_most_freq[825:830])\n",
        "print(df[825:830])"
      ],
      "metadata": {
        "colab": {
          "base_uri": "https://localhost:8080/"
        },
        "id": "bngVBTfSgmxK",
        "outputId": "4a667f13-a7af-4483-b518-e0763da47751"
      },
      "execution_count": 18,
      "outputs": [
        {
          "output_type": "stream",
          "name": "stdout",
          "text": [
            "825     Queenstown\n",
            "826    Southampton\n",
            "827      Cherbourg\n",
            "828     Queenstown\n",
            "829    Southampton\n",
            "Name: embark_town, dtype: object\n",
            "     survived  pclass     sex        age  ...  adult_male  embark_town  alive  \\\n",
            "825         0       3    male  29.699118  ...        True   Queenstown     no   \n",
            "826         0       3    male  29.699118  ...        True  Southampton     no   \n",
            "827         1       2    male   1.000000  ...       False    Cherbourg    yes   \n",
            "828         1       3    male  29.699118  ...        True   Queenstown    yes   \n",
            "829         1       1  female  62.000000  ...       False          NaN    yes   \n",
            "\n",
            "     alone  \n",
            "825   True  \n",
            "826   True  \n",
            "827  False  \n",
            "828   True  \n",
            "829   True  \n",
            "\n",
            "[5 rows x 14 columns]\n"
          ]
        }
      ]
    },
    {
      "cell_type": "code",
      "source": [
        "df['embark_town'].fillna(method='ffill', inplace=True)\n",
        "print(df['embark_town'][825:831])"
      ],
      "metadata": {
        "colab": {
          "base_uri": "https://localhost:8080/"
        },
        "id": "vQmnCcFUhWUZ",
        "outputId": "ca7b21c5-9f98-4096-ada3-c0d28c3c3bfc"
      },
      "execution_count": 19,
      "outputs": [
        {
          "output_type": "stream",
          "name": "stdout",
          "text": [
            "825     Queenstown\n",
            "826    Southampton\n",
            "827      Cherbourg\n",
            "828     Queenstown\n",
            "829     Queenstown\n",
            "830      Cherbourg\n",
            "Name: embark_town, dtype: object\n"
          ]
        }
      ]
    },
    {
      "cell_type": "code",
      "source": [
        "df.drop(['survived', 'embarked'],axis=1, inplace=True)\n",
        "df.info()"
      ],
      "metadata": {
        "colab": {
          "base_uri": "https://localhost:8080/"
        },
        "id": "H8I0FTOijCfB",
        "outputId": "e87dbaa2-b524-41b8-8b59-1d83d41f43ce"
      },
      "execution_count": 20,
      "outputs": [
        {
          "output_type": "stream",
          "name": "stdout",
          "text": [
            "<class 'pandas.core.frame.DataFrame'>\n",
            "RangeIndex: 891 entries, 0 to 890\n",
            "Data columns (total 12 columns):\n",
            " #   Column       Non-Null Count  Dtype   \n",
            "---  ------       --------------  -----   \n",
            " 0   pclass       891 non-null    int64   \n",
            " 1   sex          891 non-null    object  \n",
            " 2   age          891 non-null    float64 \n",
            " 3   sibsp        891 non-null    int64   \n",
            " 4   parch        891 non-null    int64   \n",
            " 5   fare         891 non-null    float64 \n",
            " 6   class        891 non-null    category\n",
            " 7   who          891 non-null    object  \n",
            " 8   adult_male   891 non-null    bool    \n",
            " 9   embark_town  891 non-null    object  \n",
            " 10  alive        891 non-null    object  \n",
            " 11  alone        891 non-null    bool    \n",
            "dtypes: bool(2), category(1), float64(2), int64(3), object(4)\n",
            "memory usage: 65.5+ KB\n"
          ]
        }
      ]
    },
    {
      "cell_type": "code",
      "source": [
        "print(df.isnull().sum(axis=0))"
      ],
      "metadata": {
        "colab": {
          "base_uri": "https://localhost:8080/"
        },
        "id": "_6I17nZyijnJ",
        "outputId": "3e11e7e5-6f27-40c1-f1e0-8cf29e0e2a54"
      },
      "execution_count": 21,
      "outputs": [
        {
          "output_type": "stream",
          "name": "stdout",
          "text": [
            "pclass         0\n",
            "sex            0\n",
            "age            0\n",
            "sibsp          0\n",
            "parch          0\n",
            "fare           0\n",
            "class          0\n",
            "who            0\n",
            "adult_male     0\n",
            "embark_town    0\n",
            "alive          0\n",
            "alone          0\n",
            "dtype: int64\n"
          ]
        }
      ]
    },
    {
      "cell_type": "code",
      "source": [
        "df = pd.DataFrame({'c1':['a', 'a', 'b', 'a', 'b'],\n",
        "                   'c2':[1, 1, 1, 2, 2],\n",
        "                   'c3':[1, 1, 2, 2, 2]})\n",
        "print(df)"
      ],
      "metadata": {
        "colab": {
          "base_uri": "https://localhost:8080/"
        },
        "id": "k44j5vtojZSY",
        "outputId": "bc3e525f-75d8-4d39-f559-47a2bbd0b526"
      },
      "execution_count": 22,
      "outputs": [
        {
          "output_type": "stream",
          "name": "stdout",
          "text": [
            "  c1  c2  c3\n",
            "0  a   1   1\n",
            "1  a   1   1\n",
            "2  b   1   2\n",
            "3  a   2   2\n",
            "4  b   2   2\n"
          ]
        }
      ]
    },
    {
      "cell_type": "code",
      "source": [
        "df_dup = df.duplicated()\n",
        "print(df_dup)"
      ],
      "metadata": {
        "colab": {
          "base_uri": "https://localhost:8080/"
        },
        "id": "b2F7OepmqnHV",
        "outputId": "0365f217-ec43-4a7d-cd34-6bec9ca9af03"
      },
      "execution_count": 23,
      "outputs": [
        {
          "output_type": "stream",
          "name": "stdout",
          "text": [
            "0    False\n",
            "1     True\n",
            "2    False\n",
            "3    False\n",
            "4    False\n",
            "dtype: bool\n"
          ]
        }
      ]
    },
    {
      "cell_type": "code",
      "source": [
        "df_dup = df['c2'].duplicated()\n",
        "print(df_dup)"
      ],
      "metadata": {
        "colab": {
          "base_uri": "https://localhost:8080/"
        },
        "id": "ubAIaab6q53p",
        "outputId": "0408ff16-db9d-4709-9880-b61d80c55062"
      },
      "execution_count": 24,
      "outputs": [
        {
          "output_type": "stream",
          "name": "stdout",
          "text": [
            "0    False\n",
            "1     True\n",
            "2     True\n",
            "3    False\n",
            "4     True\n",
            "Name: c2, dtype: bool\n"
          ]
        }
      ]
    },
    {
      "cell_type": "code",
      "source": [
        "df2 = df.drop_duplicates()\n",
        "print(df2)"
      ],
      "metadata": {
        "colab": {
          "base_uri": "https://localhost:8080/"
        },
        "id": "imNlTpKgrYhZ",
        "outputId": "54eec474-39d4-448a-eeda-da759e2304b6"
      },
      "execution_count": 25,
      "outputs": [
        {
          "output_type": "stream",
          "name": "stdout",
          "text": [
            "  c1  c2  c3\n",
            "0  a   1   1\n",
            "2  b   1   2\n",
            "3  a   2   2\n",
            "4  b   2   2\n"
          ]
        }
      ]
    },
    {
      "cell_type": "code",
      "source": [
        "df2 = df.drop_duplicates(subset=['c2', 'c3'])\n",
        "print(df2)"
      ],
      "metadata": {
        "colab": {
          "base_uri": "https://localhost:8080/"
        },
        "id": "W4Vh2m6KrrTj",
        "outputId": "629d5f64-6188-4f34-963a-550cc38c5861"
      },
      "execution_count": 26,
      "outputs": [
        {
          "output_type": "stream",
          "name": "stdout",
          "text": [
            "  c1  c2  c3\n",
            "0  a   1   1\n",
            "2  b   1   2\n",
            "3  a   2   2\n"
          ]
        }
      ]
    },
    {
      "cell_type": "code",
      "source": [
        "df = pd.read_csv('./datasets/auto-mpg.csv', header=None)\n",
        "df.columns = ['mpg', 'cylinders', 'displacement', 'horsepower',\n",
        "           'weight', 'acceleration', 'model year',\n",
        "           'origin', 'name']\n",
        "print(df.head())"
      ],
      "metadata": {
        "colab": {
          "base_uri": "https://localhost:8080/"
        },
        "id": "nqkQ6LKgr-Ka",
        "outputId": "a0f1477e-0225-463c-fd8b-c1c058511544"
      },
      "execution_count": 28,
      "outputs": [
        {
          "output_type": "stream",
          "name": "stdout",
          "text": [
            "    mpg  cylinders  displacement horsepower  ...  acceleration  model year  \\\n",
            "0  18.0          8         307.0      130.0  ...          12.0          70   \n",
            "1  15.0          8         350.0      165.0  ...          11.5          70   \n",
            "2  18.0          8         318.0      150.0  ...          11.0          70   \n",
            "3  16.0          8         304.0      150.0  ...          12.0          70   \n",
            "4  17.0          8         302.0      140.0  ...          10.5          70   \n",
            "\n",
            "   origin                       name  \n",
            "0       1  chevrolet chevelle malibu  \n",
            "1       1          buick skylark 320  \n",
            "2       1         plymouth satellite  \n",
            "3       1              amc rebel sst  \n",
            "4       1                ford torino  \n",
            "\n",
            "[5 rows x 9 columns]\n"
          ]
        }
      ]
    },
    {
      "cell_type": "code",
      "source": [
        "mpg_to_kpl = 0.425144\n",
        "df['kpl'] = df['mpg'] * mpg_to_kpl\n",
        "print(df.head(20))"
      ],
      "metadata": {
        "colab": {
          "base_uri": "https://localhost:8080/"
        },
        "id": "gI5iQlSDtVYs",
        "outputId": "7276e00d-8b73-41b6-f8b5-d3554ad59f28"
      },
      "execution_count": 29,
      "outputs": [
        {
          "output_type": "stream",
          "name": "stdout",
          "text": [
            "     mpg  cylinders  displacement horsepower  ...  model year  origin  \\\n",
            "0   18.0          8         307.0      130.0  ...          70       1   \n",
            "1   15.0          8         350.0      165.0  ...          70       1   \n",
            "2   18.0          8         318.0      150.0  ...          70       1   \n",
            "3   16.0          8         304.0      150.0  ...          70       1   \n",
            "4   17.0          8         302.0      140.0  ...          70       1   \n",
            "5   15.0          8         429.0      198.0  ...          70       1   \n",
            "6   14.0          8         454.0      220.0  ...          70       1   \n",
            "7   14.0          8         440.0      215.0  ...          70       1   \n",
            "8   14.0          8         455.0      225.0  ...          70       1   \n",
            "9   15.0          8         390.0      190.0  ...          70       1   \n",
            "10  15.0          8         383.0      170.0  ...          70       1   \n",
            "11  14.0          8         340.0      160.0  ...          70       1   \n",
            "12  15.0          8         400.0      150.0  ...          70       1   \n",
            "13  14.0          8         455.0      225.0  ...          70       1   \n",
            "14  24.0          4         113.0      95.00  ...          70       3   \n",
            "15  22.0          6         198.0      95.00  ...          70       1   \n",
            "16  18.0          6         199.0      97.00  ...          70       1   \n",
            "17  21.0          6         200.0      85.00  ...          70       1   \n",
            "18  27.0          4          97.0      88.00  ...          70       3   \n",
            "19  26.0          4          97.0      46.00  ...          70       2   \n",
            "\n",
            "                            name        kpl  \n",
            "0      chevrolet chevelle malibu   7.652592  \n",
            "1              buick skylark 320   6.377160  \n",
            "2             plymouth satellite   7.652592  \n",
            "3                  amc rebel sst   6.802304  \n",
            "4                    ford torino   7.227448  \n",
            "5               ford galaxie 500   6.377160  \n",
            "6               chevrolet impala   5.952016  \n",
            "7              plymouth fury iii   5.952016  \n",
            "8               pontiac catalina   5.952016  \n",
            "9             amc ambassador dpl   6.377160  \n",
            "10           dodge challenger se   6.377160  \n",
            "11            plymouth 'cuda 340   5.952016  \n",
            "12         chevrolet monte carlo   6.377160  \n",
            "13       buick estate wagon (sw)   5.952016  \n",
            "14         toyota corona mark ii  10.203456  \n",
            "15               plymouth duster   9.353168  \n",
            "16                    amc hornet   7.652592  \n",
            "17                 ford maverick   8.928024  \n",
            "18                  datsun pl510  11.478888  \n",
            "19  volkswagen 1131 deluxe sedan  11.053744  \n",
            "\n",
            "[20 rows x 10 columns]\n"
          ]
        }
      ]
    },
    {
      "cell_type": "code",
      "source": [
        "df['kpl'] = df['kpl'].round(2)\n",
        "print(df.head())"
      ],
      "metadata": {
        "colab": {
          "base_uri": "https://localhost:8080/"
        },
        "id": "C86i-wyPupG8",
        "outputId": "29e6a7c9-b5eb-418a-ce7b-26ef72259855"
      },
      "execution_count": 30,
      "outputs": [
        {
          "output_type": "stream",
          "name": "stdout",
          "text": [
            "    mpg  cylinders  displacement horsepower  ...  model year  origin  \\\n",
            "0  18.0          8         307.0      130.0  ...          70       1   \n",
            "1  15.0          8         350.0      165.0  ...          70       1   \n",
            "2  18.0          8         318.0      150.0  ...          70       1   \n",
            "3  16.0          8         304.0      150.0  ...          70       1   \n",
            "4  17.0          8         302.0      140.0  ...          70       1   \n",
            "\n",
            "                        name   kpl  \n",
            "0  chevrolet chevelle malibu  7.65  \n",
            "1          buick skylark 320  6.38  \n",
            "2         plymouth satellite  7.65  \n",
            "3              amc rebel sst  6.80  \n",
            "4                ford torino  7.23  \n",
            "\n",
            "[5 rows x 10 columns]\n"
          ]
        }
      ]
    },
    {
      "cell_type": "code",
      "source": [
        "df.info()"
      ],
      "metadata": {
        "colab": {
          "base_uri": "https://localhost:8080/"
        },
        "id": "nNqLPM-zu4Rj",
        "outputId": "1ca76a30-3ba7-4a53-f830-109ae29722b5"
      },
      "execution_count": 31,
      "outputs": [
        {
          "output_type": "stream",
          "name": "stdout",
          "text": [
            "<class 'pandas.core.frame.DataFrame'>\n",
            "RangeIndex: 398 entries, 0 to 397\n",
            "Data columns (total 10 columns):\n",
            " #   Column        Non-Null Count  Dtype  \n",
            "---  ------        --------------  -----  \n",
            " 0   mpg           398 non-null    float64\n",
            " 1   cylinders     398 non-null    int64  \n",
            " 2   displacement  398 non-null    float64\n",
            " 3   horsepower    398 non-null    object \n",
            " 4   weight        398 non-null    float64\n",
            " 5   acceleration  398 non-null    float64\n",
            " 6   model year    398 non-null    int64  \n",
            " 7   origin        398 non-null    int64  \n",
            " 8   name          398 non-null    object \n",
            " 9   kpl           398 non-null    float64\n",
            "dtypes: float64(5), int64(3), object(2)\n",
            "memory usage: 31.2+ KB\n"
          ]
        }
      ]
    },
    {
      "cell_type": "code",
      "source": [
        "print(df['horsepower'].unique())"
      ],
      "metadata": {
        "colab": {
          "base_uri": "https://localhost:8080/"
        },
        "id": "lbvPQkz5vGfi",
        "outputId": "267ab17d-cbe4-42b4-a2fe-84afa07b0e80"
      },
      "execution_count": 32,
      "outputs": [
        {
          "output_type": "stream",
          "name": "stdout",
          "text": [
            "['130.0' '165.0' '150.0' '140.0' '198.0' '220.0' '215.0' '225.0' '190.0'\n",
            " '170.0' '160.0' '95.00' '97.00' '85.00' '88.00' '46.00' '87.00' '90.00'\n",
            " '113.0' '200.0' '210.0' '193.0' '?' '100.0' '105.0' '175.0' '153.0'\n",
            " '180.0' '110.0' '72.00' '86.00' '70.00' '76.00' '65.00' '69.00' '60.00'\n",
            " '80.00' '54.00' '208.0' '155.0' '112.0' '92.00' '145.0' '137.0' '158.0'\n",
            " '167.0' '94.00' '107.0' '230.0' '49.00' '75.00' '91.00' '122.0' '67.00'\n",
            " '83.00' '78.00' '52.00' '61.00' '93.00' '148.0' '129.0' '96.00' '71.00'\n",
            " '98.00' '115.0' '53.00' '81.00' '79.00' '120.0' '152.0' '102.0' '108.0'\n",
            " '68.00' '58.00' '149.0' '89.00' '63.00' '48.00' '66.00' '139.0' '103.0'\n",
            " '125.0' '133.0' '138.0' '135.0' '142.0' '77.00' '62.00' '132.0' '84.00'\n",
            " '64.00' '74.00' '116.0' '82.00']\n"
          ]
        }
      ]
    },
    {
      "cell_type": "code",
      "source": [
        "df['horsepower'].replace('?', np.nan, inplace=True)\n",
        "df.dropna(subset=['horsepower'], axis=0, inplace=True)\n",
        "df['horsepower'] = df['horsepower'].astype('float')\n",
        "df.info()"
      ],
      "metadata": {
        "colab": {
          "base_uri": "https://localhost:8080/"
        },
        "id": "7TV54189vSKc",
        "outputId": "57027231-dba2-4bdc-e847-5e9c67a5a16e"
      },
      "execution_count": 33,
      "outputs": [
        {
          "output_type": "stream",
          "name": "stdout",
          "text": [
            "<class 'pandas.core.frame.DataFrame'>\n",
            "Int64Index: 392 entries, 0 to 397\n",
            "Data columns (total 10 columns):\n",
            " #   Column        Non-Null Count  Dtype  \n",
            "---  ------        --------------  -----  \n",
            " 0   mpg           392 non-null    float64\n",
            " 1   cylinders     392 non-null    int64  \n",
            " 2   displacement  392 non-null    float64\n",
            " 3   horsepower    392 non-null    float64\n",
            " 4   weight        392 non-null    float64\n",
            " 5   acceleration  392 non-null    float64\n",
            " 6   model year    392 non-null    int64  \n",
            " 7   origin        392 non-null    int64  \n",
            " 8   name          392 non-null    object \n",
            " 9   kpl           392 non-null    float64\n",
            "dtypes: float64(6), int64(3), object(1)\n",
            "memory usage: 33.7+ KB\n"
          ]
        }
      ]
    },
    {
      "cell_type": "code",
      "source": [
        "print(df['horsepower'].unique())"
      ],
      "metadata": {
        "colab": {
          "base_uri": "https://localhost:8080/"
        },
        "id": "YnOxeCzvwIYT",
        "outputId": "17d9aa3b-77ad-4999-b14f-94c4d9c6b936"
      },
      "execution_count": 34,
      "outputs": [
        {
          "output_type": "stream",
          "name": "stdout",
          "text": [
            "[130. 165. 150. 140. 198. 220. 215. 225. 190. 170. 160.  95.  97.  85.\n",
            "  88.  46.  87.  90. 113. 200. 210. 193. 100. 105. 175. 153. 180. 110.\n",
            "  72.  86.  70.  76.  65.  69.  60.  80.  54. 208. 155. 112.  92. 145.\n",
            " 137. 158. 167.  94. 107. 230.  49.  75.  91. 122.  67.  83.  78.  52.\n",
            "  61.  93. 148. 129.  96.  71.  98. 115.  53.  81.  79. 120. 152. 102.\n",
            " 108.  68.  58. 149.  89.  63.  48.  66. 139. 103. 125. 133. 138. 135.\n",
            " 142.  77.  62. 132.  84.  64.  74. 116.  82.]\n"
          ]
        }
      ]
    },
    {
      "cell_type": "code",
      "source": [
        "print(df['origin'].unique())"
      ],
      "metadata": {
        "id": "NK5CtfIrwh0q",
        "colab": {
          "base_uri": "https://localhost:8080/"
        },
        "outputId": "9dc00d03-6e7d-4d7a-8700-8811a04fce86"
      },
      "execution_count": 35,
      "outputs": [
        {
          "output_type": "stream",
          "name": "stdout",
          "text": [
            "[1 3 2]\n"
          ]
        }
      ]
    },
    {
      "cell_type": "code",
      "source": [
        "df['origin'].replace({1:'USA', 2:'EU', 3:'JP'}, inplace=True)\n",
        "print(df['origin'].unique())\n",
        "print(df['origin'])\n",
        "print(df['origin'].value_counts())"
      ],
      "metadata": {
        "colab": {
          "base_uri": "https://localhost:8080/"
        },
        "id": "sHaMBhfTI6EB",
        "outputId": "0ca3b8fb-367b-4d8f-e73b-07410e2bce3b"
      },
      "execution_count": 37,
      "outputs": [
        {
          "output_type": "stream",
          "name": "stdout",
          "text": [
            "['USA' 'JP' 'EU']\n",
            "0      USA\n",
            "1      USA\n",
            "2      USA\n",
            "3      USA\n",
            "4      USA\n",
            "      ... \n",
            "393    USA\n",
            "394     EU\n",
            "395    USA\n",
            "396    USA\n",
            "397    USA\n",
            "Name: origin, Length: 392, dtype: object\n",
            "USA    245\n",
            "JP      79\n",
            "EU      68\n",
            "Name: origin, dtype: int64\n"
          ]
        }
      ]
    },
    {
      "cell_type": "code",
      "source": [
        "print(df['origin'].dtypes)"
      ],
      "metadata": {
        "colab": {
          "base_uri": "https://localhost:8080/"
        },
        "id": "nIhPRHlSJQ2y",
        "outputId": "97d3fb4d-2455-40f7-ce1b-121861eb1e97"
      },
      "execution_count": 38,
      "outputs": [
        {
          "output_type": "stream",
          "name": "stdout",
          "text": [
            "object\n"
          ]
        }
      ]
    },
    {
      "cell_type": "code",
      "source": [
        "df['origin'] = df['origin'].astype('category')\n",
        "print(df['origin'].dtypes)\n",
        "print(df['origin'])"
      ],
      "metadata": {
        "colab": {
          "base_uri": "https://localhost:8080/"
        },
        "id": "AVvBJ1m4J1_y",
        "outputId": "41805512-6db1-42e7-81ae-173e24af2f83"
      },
      "execution_count": 39,
      "outputs": [
        {
          "output_type": "stream",
          "name": "stdout",
          "text": [
            "category\n",
            "0      USA\n",
            "1      USA\n",
            "2      USA\n",
            "3      USA\n",
            "4      USA\n",
            "      ... \n",
            "393    USA\n",
            "394     EU\n",
            "395    USA\n",
            "396    USA\n",
            "397    USA\n",
            "Name: origin, Length: 392, dtype: category\n",
            "Categories (3, object): ['EU', 'JP', 'USA']\n"
          ]
        }
      ]
    },
    {
      "cell_type": "code",
      "source": [
        "df['origin'] = df['origin'].astype('str')\n",
        "print(df['origin'].dtypes)\n",
        "print(df['origin'])"
      ],
      "metadata": {
        "colab": {
          "base_uri": "https://localhost:8080/"
        },
        "id": "D6DZj7jMKXWJ",
        "outputId": "36d4101e-20db-4d61-8ab4-f8270629fba7"
      },
      "execution_count": 40,
      "outputs": [
        {
          "output_type": "stream",
          "name": "stdout",
          "text": [
            "object\n",
            "0      USA\n",
            "1      USA\n",
            "2      USA\n",
            "3      USA\n",
            "4      USA\n",
            "      ... \n",
            "393    USA\n",
            "394     EU\n",
            "395    USA\n",
            "396    USA\n",
            "397    USA\n",
            "Name: origin, Length: 392, dtype: object\n"
          ]
        }
      ]
    },
    {
      "cell_type": "code",
      "source": [
        "count, bin_dividers = np.histogram(df['horsepower'], bins=3)\n",
        "print(count)\n",
        "print(bin_dividers)"
      ],
      "metadata": {
        "colab": {
          "base_uri": "https://localhost:8080/"
        },
        "id": "-AgDB9XTKyRp",
        "outputId": "55c3054f-3430-4c1d-d1ee-dd74b706b452"
      },
      "execution_count": 42,
      "outputs": [
        {
          "output_type": "stream",
          "name": "stdout",
          "text": [
            "[257 103  32]\n",
            "[ 46.         107.33333333 168.66666667 230.        ]\n"
          ]
        }
      ]
    },
    {
      "cell_type": "code",
      "source": [
        "bin_names = ['저출력', '보통출력', '고출력']\n",
        "df['hp_bin'] = pd.cut(x=df['horsepower'], bins=bin_dividers,\n",
        "                      labels=bin_names, include_lowest=True)\n",
        "print(df[['horsepower', 'hp_bin']].head(20))"
      ],
      "metadata": {
        "colab": {
          "base_uri": "https://localhost:8080/"
        },
        "id": "HgFRKNPyMHaD",
        "outputId": "0f21d894-6b75-421f-d724-681a04f9210c"
      },
      "execution_count": 50,
      "outputs": [
        {
          "output_type": "stream",
          "name": "stdout",
          "text": [
            "    horsepower    hp_bin\n",
            "0        130.0  보통출력\n",
            "1        165.0  보통출력\n",
            "2        150.0  보통출력\n",
            "3        150.0  보통출력\n",
            "4        140.0  보통출력\n",
            "5        198.0    고출력\n",
            "6        220.0    고출력\n",
            "7        215.0    고출력\n",
            "8        225.0    고출력\n",
            "9        190.0    고출력\n",
            "10       170.0    고출력\n",
            "11       160.0  보통출력\n",
            "12       150.0  보통출력\n",
            "13       225.0    고출력\n",
            "14        95.0    저출력\n",
            "15        95.0    저출력\n",
            "16        97.0    저출력\n",
            "17        85.0    저출력\n",
            "18        88.0    저출력\n",
            "19        46.0    저출력\n"
          ]
        }
      ]
    },
    {
      "cell_type": "code",
      "source": [
        "df.info()"
      ],
      "metadata": {
        "colab": {
          "base_uri": "https://localhost:8080/"
        },
        "id": "6ov0RrZZNHq6",
        "outputId": "9be7e496-08b1-4ea9-8180-98eb65b006f6"
      },
      "execution_count": 44,
      "outputs": [
        {
          "output_type": "stream",
          "name": "stdout",
          "text": [
            "<class 'pandas.core.frame.DataFrame'>\n",
            "Int64Index: 392 entries, 0 to 397\n",
            "Data columns (total 11 columns):\n",
            " #   Column        Non-Null Count  Dtype   \n",
            "---  ------        --------------  -----   \n",
            " 0   mpg           392 non-null    float64 \n",
            " 1   cylinders     392 non-null    int64   \n",
            " 2   displacement  392 non-null    float64 \n",
            " 3   horsepower    392 non-null    float64 \n",
            " 4   weight        392 non-null    float64 \n",
            " 5   acceleration  392 non-null    float64 \n",
            " 6   model year    392 non-null    int64   \n",
            " 7   origin        392 non-null    object  \n",
            " 8   name          392 non-null    object  \n",
            " 9   kpl           392 non-null    float64 \n",
            " 10  hp_bin        392 non-null    category\n",
            "dtypes: category(1), float64(6), int64(2), object(2)\n",
            "memory usage: 34.2+ KB\n"
          ]
        }
      ]
    },
    {
      "cell_type": "code",
      "source": [
        "label_encoder = preprocessing.LabelEncoder()\n",
        "onehot_encoder = preprocessing.OneHotEncoder()\n"
      ],
      "metadata": {
        "id": "GD63cChNNQbS"
      },
      "execution_count": 53,
      "outputs": []
    },
    {
      "cell_type": "code",
      "source": [
        "hp_bin_labeled = \\\n",
        "    label_encoder.fit_transform(df['hp_bin'].head(15))\n",
        "print(hp_bin_labeled)\n",
        "print(type(hp_bin_labeled))\n",
        "print(label_encoder.classes_)"
      ],
      "metadata": {
        "colab": {
          "base_uri": "https://localhost:8080/"
        },
        "id": "v0OudRxXRziY",
        "outputId": "dd7f8faf-0c5f-4459-fccf-183c84e0339a"
      },
      "execution_count": 54,
      "outputs": [
        {
          "output_type": "stream",
          "name": "stdout",
          "text": [
            "[1 1 1 1 1 0 0 0 0 0 0 1 1 0 2]\n",
            "<class 'numpy.ndarray'>\n",
            "['고출력' '보통출력' '저출력']\n"
          ]
        }
      ]
    },
    {
      "cell_type": "code",
      "source": [
        "print(hp_bin_labeled.shape)"
      ],
      "metadata": {
        "colab": {
          "base_uri": "https://localhost:8080/"
        },
        "id": "u93HfZFDSUJp",
        "outputId": "3802e57f-4ac8-4f06-a886-dcf2e3b64761"
      },
      "execution_count": 55,
      "outputs": [
        {
          "output_type": "stream",
          "name": "stdout",
          "text": [
            "(15,)\n"
          ]
        }
      ]
    },
    {
      "cell_type": "code",
      "source": [
        "hp_bin_labeled = hp_bin_labeled.reshape(-1, 1)\n",
        "print(hp_bin_labeled)\n",
        "print(hp_bin_labeled.shape)"
      ],
      "metadata": {
        "colab": {
          "base_uri": "https://localhost:8080/"
        },
        "id": "Mex7IFEqU9U5",
        "outputId": "7ac2d263-4d0d-420e-af74-21861752beb3"
      },
      "execution_count": 67,
      "outputs": [
        {
          "output_type": "stream",
          "name": "stdout",
          "text": [
            "[[1]\n",
            " [1]\n",
            " [1]\n",
            " [1]\n",
            " [1]\n",
            " [0]\n",
            " [0]\n",
            " [0]\n",
            " [0]\n",
            " [0]\n",
            " [0]\n",
            " [1]\n",
            " [1]\n",
            " [0]\n",
            " [2]]\n",
            "(15, 1)\n"
          ]
        }
      ]
    },
    {
      "cell_type": "code",
      "source": [
        "onehot_pitted = onehot_encoder.fit_transform(hp_bin_labeled)\n",
        "print(onehot_pitted)"
      ],
      "metadata": {
        "colab": {
          "base_uri": "https://localhost:8080/"
        },
        "id": "1xTr73EbVZIk",
        "outputId": "31e3f4d1-12c3-4e58-bd0a-0e6d1e0eef26"
      },
      "execution_count": 68,
      "outputs": [
        {
          "output_type": "stream",
          "name": "stdout",
          "text": [
            "  (0, 1)\t1.0\n",
            "  (1, 1)\t1.0\n",
            "  (2, 1)\t1.0\n",
            "  (3, 1)\t1.0\n",
            "  (4, 1)\t1.0\n",
            "  (5, 0)\t1.0\n",
            "  (6, 0)\t1.0\n",
            "  (7, 0)\t1.0\n",
            "  (8, 0)\t1.0\n",
            "  (9, 0)\t1.0\n",
            "  (10, 0)\t1.0\n",
            "  (11, 1)\t1.0\n",
            "  (12, 1)\t1.0\n",
            "  (13, 0)\t1.0\n",
            "  (14, 2)\t1.0\n"
          ]
        }
      ]
    },
    {
      "cell_type": "code",
      "source": [
        "df1 = df[['horsepower', 'hp_bin']]\n",
        "df2 = pd.get_dummies(df1)\n",
        "df2"
      ],
      "metadata": {
        "colab": {
          "base_uri": "https://localhost:8080/",
          "height": 423
        },
        "id": "5UCPWGn1WNm5",
        "outputId": "fa1fca65-cad7-4d6a-b32b-1a6a6b175319"
      },
      "execution_count": 71,
      "outputs": [
        {
          "output_type": "execute_result",
          "data": {
            "text/plain": [
              "     horsepower  hp_bin_저출력  hp_bin_보통출력  hp_bin_고출력\n",
              "0         130.0              0                1              0\n",
              "1         165.0              0                1              0\n",
              "2         150.0              0                1              0\n",
              "3         150.0              0                1              0\n",
              "4         140.0              0                1              0\n",
              "..          ...            ...              ...            ...\n",
              "393        86.0              1                0              0\n",
              "394        52.0              1                0              0\n",
              "395        84.0              1                0              0\n",
              "396        79.0              1                0              0\n",
              "397        82.0              1                0              0\n",
              "\n",
              "[392 rows x 4 columns]"
            ],
            "text/html": [
              "\n",
              "  <div id=\"df-d8642c80-cf1c-4793-98ac-15f4f17cc4cf\">\n",
              "    <div class=\"colab-df-container\">\n",
              "      <div>\n",
              "<style scoped>\n",
              "    .dataframe tbody tr th:only-of-type {\n",
              "        vertical-align: middle;\n",
              "    }\n",
              "\n",
              "    .dataframe tbody tr th {\n",
              "        vertical-align: top;\n",
              "    }\n",
              "\n",
              "    .dataframe thead th {\n",
              "        text-align: right;\n",
              "    }\n",
              "</style>\n",
              "<table border=\"1\" class=\"dataframe\">\n",
              "  <thead>\n",
              "    <tr style=\"text-align: right;\">\n",
              "      <th></th>\n",
              "      <th>horsepower</th>\n",
              "      <th>hp_bin_저출력</th>\n",
              "      <th>hp_bin_보통출력</th>\n",
              "      <th>hp_bin_고출력</th>\n",
              "    </tr>\n",
              "  </thead>\n",
              "  <tbody>\n",
              "    <tr>\n",
              "      <th>0</th>\n",
              "      <td>130.0</td>\n",
              "      <td>0</td>\n",
              "      <td>1</td>\n",
              "      <td>0</td>\n",
              "    </tr>\n",
              "    <tr>\n",
              "      <th>1</th>\n",
              "      <td>165.0</td>\n",
              "      <td>0</td>\n",
              "      <td>1</td>\n",
              "      <td>0</td>\n",
              "    </tr>\n",
              "    <tr>\n",
              "      <th>2</th>\n",
              "      <td>150.0</td>\n",
              "      <td>0</td>\n",
              "      <td>1</td>\n",
              "      <td>0</td>\n",
              "    </tr>\n",
              "    <tr>\n",
              "      <th>3</th>\n",
              "      <td>150.0</td>\n",
              "      <td>0</td>\n",
              "      <td>1</td>\n",
              "      <td>0</td>\n",
              "    </tr>\n",
              "    <tr>\n",
              "      <th>4</th>\n",
              "      <td>140.0</td>\n",
              "      <td>0</td>\n",
              "      <td>1</td>\n",
              "      <td>0</td>\n",
              "    </tr>\n",
              "    <tr>\n",
              "      <th>...</th>\n",
              "      <td>...</td>\n",
              "      <td>...</td>\n",
              "      <td>...</td>\n",
              "      <td>...</td>\n",
              "    </tr>\n",
              "    <tr>\n",
              "      <th>393</th>\n",
              "      <td>86.0</td>\n",
              "      <td>1</td>\n",
              "      <td>0</td>\n",
              "      <td>0</td>\n",
              "    </tr>\n",
              "    <tr>\n",
              "      <th>394</th>\n",
              "      <td>52.0</td>\n",
              "      <td>1</td>\n",
              "      <td>0</td>\n",
              "      <td>0</td>\n",
              "    </tr>\n",
              "    <tr>\n",
              "      <th>395</th>\n",
              "      <td>84.0</td>\n",
              "      <td>1</td>\n",
              "      <td>0</td>\n",
              "      <td>0</td>\n",
              "    </tr>\n",
              "    <tr>\n",
              "      <th>396</th>\n",
              "      <td>79.0</td>\n",
              "      <td>1</td>\n",
              "      <td>0</td>\n",
              "      <td>0</td>\n",
              "    </tr>\n",
              "    <tr>\n",
              "      <th>397</th>\n",
              "      <td>82.0</td>\n",
              "      <td>1</td>\n",
              "      <td>0</td>\n",
              "      <td>0</td>\n",
              "    </tr>\n",
              "  </tbody>\n",
              "</table>\n",
              "<p>392 rows × 4 columns</p>\n",
              "</div>\n",
              "      <button class=\"colab-df-convert\" onclick=\"convertToInteractive('df-d8642c80-cf1c-4793-98ac-15f4f17cc4cf')\"\n",
              "              title=\"Convert this dataframe to an interactive table.\"\n",
              "              style=\"display:none;\">\n",
              "        \n",
              "  <svg xmlns=\"http://www.w3.org/2000/svg\" height=\"24px\"viewBox=\"0 0 24 24\"\n",
              "       width=\"24px\">\n",
              "    <path d=\"M0 0h24v24H0V0z\" fill=\"none\"/>\n",
              "    <path d=\"M18.56 5.44l.94 2.06.94-2.06 2.06-.94-2.06-.94-.94-2.06-.94 2.06-2.06.94zm-11 1L8.5 8.5l.94-2.06 2.06-.94-2.06-.94L8.5 2.5l-.94 2.06-2.06.94zm10 10l.94 2.06.94-2.06 2.06-.94-2.06-.94-.94-2.06-.94 2.06-2.06.94z\"/><path d=\"M17.41 7.96l-1.37-1.37c-.4-.4-.92-.59-1.43-.59-.52 0-1.04.2-1.43.59L10.3 9.45l-7.72 7.72c-.78.78-.78 2.05 0 2.83L4 21.41c.39.39.9.59 1.41.59.51 0 1.02-.2 1.41-.59l7.78-7.78 2.81-2.81c.8-.78.8-2.07 0-2.86zM5.41 20L4 18.59l7.72-7.72 1.47 1.35L5.41 20z\"/>\n",
              "  </svg>\n",
              "      </button>\n",
              "      \n",
              "  <style>\n",
              "    .colab-df-container {\n",
              "      display:flex;\n",
              "      flex-wrap:wrap;\n",
              "      gap: 12px;\n",
              "    }\n",
              "\n",
              "    .colab-df-convert {\n",
              "      background-color: #E8F0FE;\n",
              "      border: none;\n",
              "      border-radius: 50%;\n",
              "      cursor: pointer;\n",
              "      display: none;\n",
              "      fill: #1967D2;\n",
              "      height: 32px;\n",
              "      padding: 0 0 0 0;\n",
              "      width: 32px;\n",
              "    }\n",
              "\n",
              "    .colab-df-convert:hover {\n",
              "      background-color: #E2EBFA;\n",
              "      box-shadow: 0px 1px 2px rgba(60, 64, 67, 0.3), 0px 1px 3px 1px rgba(60, 64, 67, 0.15);\n",
              "      fill: #174EA6;\n",
              "    }\n",
              "\n",
              "    [theme=dark] .colab-df-convert {\n",
              "      background-color: #3B4455;\n",
              "      fill: #D2E3FC;\n",
              "    }\n",
              "\n",
              "    [theme=dark] .colab-df-convert:hover {\n",
              "      background-color: #434B5C;\n",
              "      box-shadow: 0px 1px 3px 1px rgba(0, 0, 0, 0.15);\n",
              "      filter: drop-shadow(0px 1px 2px rgba(0, 0, 0, 0.3));\n",
              "      fill: #FFFFFF;\n",
              "    }\n",
              "  </style>\n",
              "\n",
              "      <script>\n",
              "        const buttonEl =\n",
              "          document.querySelector('#df-d8642c80-cf1c-4793-98ac-15f4f17cc4cf button.colab-df-convert');\n",
              "        buttonEl.style.display =\n",
              "          google.colab.kernel.accessAllowed ? 'block' : 'none';\n",
              "\n",
              "        async function convertToInteractive(key) {\n",
              "          const element = document.querySelector('#df-d8642c80-cf1c-4793-98ac-15f4f17cc4cf');\n",
              "          const dataTable =\n",
              "            await google.colab.kernel.invokeFunction('convertToInteractive',\n",
              "                                                     [key], {});\n",
              "          if (!dataTable) return;\n",
              "\n",
              "          const docLinkHtml = 'Like what you see? Visit the ' +\n",
              "            '<a target=\"_blank\" href=https://colab.research.google.com/notebooks/data_table.ipynb>data table notebook</a>'\n",
              "            + ' to learn more about interactive tables.';\n",
              "          element.innerHTML = '';\n",
              "          dataTable['output_type'] = 'display_data';\n",
              "          await google.colab.output.renderOutput(dataTable, element);\n",
              "          const docLink = document.createElement('div');\n",
              "          docLink.innerHTML = docLinkHtml;\n",
              "          element.appendChild(docLink);\n",
              "        }\n",
              "      </script>\n",
              "    </div>\n",
              "  </div>\n",
              "  "
            ]
          },
          "metadata": {},
          "execution_count": 71
        }
      ]
    },
    {
      "cell_type": "code",
      "source": [
        "from sklearn.preprocessing import StandardScaler\n",
        "from sklearn.preprocessing import Normalizer\n",
        "from sklearn.preprocessing import MinMaxScaler"
      ],
      "metadata": {
        "id": "7o9CTy5gX7nr"
      },
      "execution_count": 72,
      "outputs": []
    },
    {
      "cell_type": "code",
      "source": [
        "data = np.array([4, 5, 6, 7, 8])\n",
        "min = 4\n",
        "max = 8"
      ],
      "metadata": {
        "id": "T7DF-kM7ZIQb"
      },
      "execution_count": 83,
      "outputs": []
    },
    {
      "cell_type": "code",
      "source": [
        "data1 = data -4\n",
        "print(data1)"
      ],
      "metadata": {
        "colab": {
          "base_uri": "https://localhost:8080/"
        },
        "id": "1gSF12WjZbbT",
        "outputId": "614bfafd-3028-4939-8f20-02c1cdd48d6c"
      },
      "execution_count": 84,
      "outputs": [
        {
          "output_type": "stream",
          "name": "stdout",
          "text": [
            "[0 1 2 3 4]\n"
          ]
        }
      ]
    },
    {
      "cell_type": "code",
      "source": [
        "data1 = data1 / 4\n",
        "print(data1)"
      ],
      "metadata": {
        "colab": {
          "base_uri": "https://localhost:8080/"
        },
        "id": "kDWxz4VyZtBp",
        "outputId": "7f025c32-ffff-4bc7-fc67-0a7c87414991"
      },
      "execution_count": 85,
      "outputs": [
        {
          "output_type": "stream",
          "name": "stdout",
          "text": [
            "[0.   0.25 0.5  0.75 1.  ]\n"
          ]
        }
      ]
    },
    {
      "cell_type": "code",
      "source": [
        "data2 = (data - min) / (max - min)\n",
        "print(data2)"
      ],
      "metadata": {
        "colab": {
          "base_uri": "https://localhost:8080/"
        },
        "id": "bMk-2CAQeOki",
        "outputId": "cc598bd4-691f-45e7-f2ca-d849f6a1261d"
      },
      "execution_count": 86,
      "outputs": [
        {
          "output_type": "stream",
          "name": "stdout",
          "text": [
            "[0.   0.25 0.5  0.75 1.  ]\n"
          ]
        }
      ]
    },
    {
      "cell_type": "code",
      "source": [
        "minmaxscaler = MinMaxScaler()\n",
        "data3 = minmaxscaler.fit_transform(data.reshape(-1, 1))\n",
        "print(data3)"
      ],
      "metadata": {
        "colab": {
          "base_uri": "https://localhost:8080/"
        },
        "id": "js5LSJvbendB",
        "outputId": "1ae824a1-0bfd-4208-b7f7-420f292be689"
      },
      "execution_count": 87,
      "outputs": [
        {
          "output_type": "stream",
          "name": "stdout",
          "text": [
            "[[0.  ]\n",
            " [0.25]\n",
            " [0.5 ]\n",
            " [0.75]\n",
            " [1.  ]]\n"
          ]
        }
      ]
    },
    {
      "cell_type": "code",
      "source": [
        ""
      ],
      "metadata": {
        "id": "opaV7GgsgMvM"
      },
      "execution_count": null,
      "outputs": []
    }
  ]
}